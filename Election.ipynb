{
 "cells": [
  {
   "cell_type": "code",
   "execution_count": 1,
   "metadata": {},
   "outputs": [
    {
     "data": {
      "text/html": [
       "<div>\n",
       "<style scoped>\n",
       "    .dataframe tbody tr th:only-of-type {\n",
       "        vertical-align: middle;\n",
       "    }\n",
       "\n",
       "    .dataframe tbody tr th {\n",
       "        vertical-align: top;\n",
       "    }\n",
       "\n",
       "    .dataframe thead th {\n",
       "        text-align: right;\n",
       "    }\n",
       "</style>\n",
       "<table border=\"1\" class=\"dataframe\">\n",
       "  <thead>\n",
       "    <tr style=\"text-align: right;\">\n",
       "      <th></th>\n",
       "      <th>County</th>\n",
       "      <th>State</th>\n",
       "      <th>Region</th>\n",
       "      <th>FIPS</th>\n",
       "      <th>ElectionDate</th>\n",
       "      <th>ElectionType</th>\n",
       "      <th>TotalVote</th>\n",
       "      <th>Clinton</th>\n",
       "      <th>Obama</th>\n",
       "      <th>MalesPer100Females</th>\n",
       "      <th>...</th>\n",
       "      <th>SocialSecurityRate</th>\n",
       "      <th>RetiredWorkers</th>\n",
       "      <th>Disabilities</th>\n",
       "      <th>DisabilitiesRate</th>\n",
       "      <th>Homeowner</th>\n",
       "      <th>SameHouse1995and2000</th>\n",
       "      <th>Pop</th>\n",
       "      <th>PopDensity</th>\n",
       "      <th>LandArea</th>\n",
       "      <th>FarmArea</th>\n",
       "    </tr>\n",
       "  </thead>\n",
       "  <tbody>\n",
       "    <tr>\n",
       "      <th>0</th>\n",
       "      <td>Adair</td>\n",
       "      <td>IA</td>\n",
       "      <td>Midwest</td>\n",
       "      <td>19001</td>\n",
       "      <td>1/3/2008</td>\n",
       "      <td>Caucuses</td>\n",
       "      <td>75.0</td>\n",
       "      <td>22.0</td>\n",
       "      <td>24.0</td>\n",
       "      <td>96.7</td>\n",
       "      <td>...</td>\n",
       "      <td>23222.0</td>\n",
       "      <td>1230.0</td>\n",
       "      <td>90.0</td>\n",
       "      <td>1145.0</td>\n",
       "      <td>75.0</td>\n",
       "      <td>66.0</td>\n",
       "      <td>7714</td>\n",
       "      <td>13.5</td>\n",
       "      <td>570.0</td>\n",
       "      <td>373.0</td>\n",
       "    </tr>\n",
       "    <tr>\n",
       "      <th>1</th>\n",
       "      <td>Adams</td>\n",
       "      <td>IA</td>\n",
       "      <td>Midwest</td>\n",
       "      <td>19003</td>\n",
       "      <td>1/3/2008</td>\n",
       "      <td>Caucuses</td>\n",
       "      <td>50.0</td>\n",
       "      <td>18.0</td>\n",
       "      <td>7.0</td>\n",
       "      <td>96.8</td>\n",
       "      <td>...</td>\n",
       "      <td>26032.0</td>\n",
       "      <td>720.0</td>\n",
       "      <td>78.0</td>\n",
       "      <td>1829.0</td>\n",
       "      <td>74.7</td>\n",
       "      <td>65.4</td>\n",
       "      <td>4192</td>\n",
       "      <td>9.9</td>\n",
       "      <td>425.0</td>\n",
       "      <td>238.0</td>\n",
       "    </tr>\n",
       "    <tr>\n",
       "      <th>2</th>\n",
       "      <td>Allamakee</td>\n",
       "      <td>IA</td>\n",
       "      <td>Midwest</td>\n",
       "      <td>19005</td>\n",
       "      <td>1/3/2008</td>\n",
       "      <td>Caucuses</td>\n",
       "      <td>80.0</td>\n",
       "      <td>25.0</td>\n",
       "      <td>33.0</td>\n",
       "      <td>104.5</td>\n",
       "      <td>...</td>\n",
       "      <td>22231.0</td>\n",
       "      <td>2245.0</td>\n",
       "      <td>186.0</td>\n",
       "      <td>1265.0</td>\n",
       "      <td>76.4</td>\n",
       "      <td>64.1</td>\n",
       "      <td>14796</td>\n",
       "      <td>23.1</td>\n",
       "      <td>659.0</td>\n",
       "      <td>326.0</td>\n",
       "    </tr>\n",
       "    <tr>\n",
       "      <th>3</th>\n",
       "      <td>Appanoose</td>\n",
       "      <td>IA</td>\n",
       "      <td>Midwest</td>\n",
       "      <td>19007</td>\n",
       "      <td>1/3/2008</td>\n",
       "      <td>Caucuses</td>\n",
       "      <td>60.0</td>\n",
       "      <td>17.0</td>\n",
       "      <td>10.0</td>\n",
       "      <td>94.0</td>\n",
       "      <td>...</td>\n",
       "      <td>24989.0</td>\n",
       "      <td>2050.0</td>\n",
       "      <td>453.0</td>\n",
       "      <td>3315.0</td>\n",
       "      <td>74.0</td>\n",
       "      <td>60.2</td>\n",
       "      <td>13422</td>\n",
       "      <td>27.0</td>\n",
       "      <td>516.0</td>\n",
       "      <td>236.0</td>\n",
       "    </tr>\n",
       "    <tr>\n",
       "      <th>4</th>\n",
       "      <td>Audubon</td>\n",
       "      <td>IA</td>\n",
       "      <td>Midwest</td>\n",
       "      <td>19009</td>\n",
       "      <td>1/3/2008</td>\n",
       "      <td>Caucuses</td>\n",
       "      <td>48.0</td>\n",
       "      <td>16.0</td>\n",
       "      <td>17.0</td>\n",
       "      <td>94.7</td>\n",
       "      <td>...</td>\n",
       "      <td>26947.0</td>\n",
       "      <td>1150.0</td>\n",
       "      <td>79.0</td>\n",
       "      <td>1223.0</td>\n",
       "      <td>79.2</td>\n",
       "      <td>70.4</td>\n",
       "      <td>6278</td>\n",
       "      <td>14.2</td>\n",
       "      <td>444.0</td>\n",
       "      <td>261.0</td>\n",
       "    </tr>\n",
       "  </tbody>\n",
       "</table>\n",
       "<p>5 rows × 41 columns</p>\n",
       "</div>"
      ],
      "text/plain": [
       "      County State   Region   FIPS ElectionDate ElectionType  TotalVote  \\\n",
       "0      Adair    IA  Midwest  19001     1/3/2008     Caucuses       75.0   \n",
       "1      Adams    IA  Midwest  19003     1/3/2008     Caucuses       50.0   \n",
       "2  Allamakee    IA  Midwest  19005     1/3/2008     Caucuses       80.0   \n",
       "3  Appanoose    IA  Midwest  19007     1/3/2008     Caucuses       60.0   \n",
       "4    Audubon    IA  Midwest  19009     1/3/2008     Caucuses       48.0   \n",
       "\n",
       "   Clinton  Obama  MalesPer100Females  ...  SocialSecurityRate  \\\n",
       "0     22.0   24.0                96.7  ...             23222.0   \n",
       "1     18.0    7.0                96.8  ...             26032.0   \n",
       "2     25.0   33.0               104.5  ...             22231.0   \n",
       "3     17.0   10.0                94.0  ...             24989.0   \n",
       "4     16.0   17.0                94.7  ...             26947.0   \n",
       "\n",
       "   RetiredWorkers  Disabilities  DisabilitiesRate  Homeowner  \\\n",
       "0          1230.0          90.0            1145.0       75.0   \n",
       "1           720.0          78.0            1829.0       74.7   \n",
       "2          2245.0         186.0            1265.0       76.4   \n",
       "3          2050.0         453.0            3315.0       74.0   \n",
       "4          1150.0          79.0            1223.0       79.2   \n",
       "\n",
       "   SameHouse1995and2000    Pop  PopDensity  LandArea  FarmArea  \n",
       "0                  66.0   7714        13.5     570.0     373.0  \n",
       "1                  65.4   4192         9.9     425.0     238.0  \n",
       "2                  64.1  14796        23.1     659.0     326.0  \n",
       "3                  60.2  13422        27.0     516.0     236.0  \n",
       "4                  70.4   6278        14.2     444.0     261.0  \n",
       "\n",
       "[5 rows x 41 columns]"
      ]
     },
     "execution_count": 1,
     "metadata": {},
     "output_type": "execute_result"
    }
   ],
   "source": [
    "#import the useful libraries.\n",
    "import numpy as np\n",
    "import pandas as pd\n",
    "import seaborn as sns\n",
    "import scipy.stats as stats\n",
    "import matplotlib.pyplot as plt\n",
    "%matplotlib inline\n",
    "\n",
    "filepath = r\"ElectionDataAlone.csv\"\n",
    "\n",
    "# Read the dataset\n",
    "data= pd.read_csv(filepath)\n",
    "\n",
    "# Printing the data\n",
    "data.head()"
   ]
  },
  {
   "cell_type": "code",
   "execution_count": 2,
   "metadata": {},
   "outputs": [],
   "source": [
    "#impute missing variables with average of each column\n",
    "from sklearn.impute import SimpleImputer \n",
    "\n",
    "imputer = SimpleImputer(missing_values= np.nan, strategy='mean')\n",
    "imputer = imputer.fit(data.iloc[:,6:])\n",
    "\n",
    "data.iloc[:,6:] = imputer.transform(data.iloc[:,6:])"
   ]
  },
  {
   "cell_type": "code",
   "execution_count": 3,
   "metadata": {},
   "outputs": [],
   "source": [
    "data['ElectionDate'] = pd.to_datetime(data.ElectionDate)"
   ]
  },
  {
   "cell_type": "code",
   "execution_count": 4,
   "metadata": {},
   "outputs": [
    {
     "name": "stdout",
     "output_type": "stream",
     "text": [
      "Train set size:  (1737, 41)\n",
      "Test set size:  (1131, 41)\n"
     ]
    },
    {
     "data": {
      "text/html": [
       "<div>\n",
       "<style scoped>\n",
       "    .dataframe tbody tr th:only-of-type {\n",
       "        vertical-align: middle;\n",
       "    }\n",
       "\n",
       "    .dataframe tbody tr th {\n",
       "        vertical-align: top;\n",
       "    }\n",
       "\n",
       "    .dataframe thead th {\n",
       "        text-align: right;\n",
       "    }\n",
       "</style>\n",
       "<table border=\"1\" class=\"dataframe\">\n",
       "  <thead>\n",
       "    <tr style=\"text-align: right;\">\n",
       "      <th></th>\n",
       "      <th>County</th>\n",
       "      <th>State</th>\n",
       "      <th>Region</th>\n",
       "      <th>FIPS</th>\n",
       "      <th>ElectionDate</th>\n",
       "      <th>ElectionType</th>\n",
       "      <th>TotalVote</th>\n",
       "      <th>Clinton</th>\n",
       "      <th>Obama</th>\n",
       "      <th>MalesPer100Females</th>\n",
       "      <th>...</th>\n",
       "      <th>SocialSecurityRate</th>\n",
       "      <th>RetiredWorkers</th>\n",
       "      <th>Disabilities</th>\n",
       "      <th>DisabilitiesRate</th>\n",
       "      <th>Homeowner</th>\n",
       "      <th>SameHouse1995and2000</th>\n",
       "      <th>Pop</th>\n",
       "      <th>PopDensity</th>\n",
       "      <th>LandArea</th>\n",
       "      <th>FarmArea</th>\n",
       "    </tr>\n",
       "  </thead>\n",
       "  <tbody>\n",
       "    <tr>\n",
       "      <th>0</th>\n",
       "      <td>Adair</td>\n",
       "      <td>IA</td>\n",
       "      <td>Midwest</td>\n",
       "      <td>19001</td>\n",
       "      <td>2008-01-03</td>\n",
       "      <td>Caucuses</td>\n",
       "      <td>75.0</td>\n",
       "      <td>22.0</td>\n",
       "      <td>24.0</td>\n",
       "      <td>96.7</td>\n",
       "      <td>...</td>\n",
       "      <td>23222.0</td>\n",
       "      <td>1230.0</td>\n",
       "      <td>90.0</td>\n",
       "      <td>1145.0</td>\n",
       "      <td>75.0</td>\n",
       "      <td>66.0</td>\n",
       "      <td>7714.0</td>\n",
       "      <td>13.5</td>\n",
       "      <td>570.0</td>\n",
       "      <td>373.0</td>\n",
       "    </tr>\n",
       "    <tr>\n",
       "      <th>1</th>\n",
       "      <td>Adams</td>\n",
       "      <td>IA</td>\n",
       "      <td>Midwest</td>\n",
       "      <td>19003</td>\n",
       "      <td>2008-01-03</td>\n",
       "      <td>Caucuses</td>\n",
       "      <td>50.0</td>\n",
       "      <td>18.0</td>\n",
       "      <td>7.0</td>\n",
       "      <td>96.8</td>\n",
       "      <td>...</td>\n",
       "      <td>26032.0</td>\n",
       "      <td>720.0</td>\n",
       "      <td>78.0</td>\n",
       "      <td>1829.0</td>\n",
       "      <td>74.7</td>\n",
       "      <td>65.4</td>\n",
       "      <td>4192.0</td>\n",
       "      <td>9.9</td>\n",
       "      <td>425.0</td>\n",
       "      <td>238.0</td>\n",
       "    </tr>\n",
       "    <tr>\n",
       "      <th>2</th>\n",
       "      <td>Allamakee</td>\n",
       "      <td>IA</td>\n",
       "      <td>Midwest</td>\n",
       "      <td>19005</td>\n",
       "      <td>2008-01-03</td>\n",
       "      <td>Caucuses</td>\n",
       "      <td>80.0</td>\n",
       "      <td>25.0</td>\n",
       "      <td>33.0</td>\n",
       "      <td>104.5</td>\n",
       "      <td>...</td>\n",
       "      <td>22231.0</td>\n",
       "      <td>2245.0</td>\n",
       "      <td>186.0</td>\n",
       "      <td>1265.0</td>\n",
       "      <td>76.4</td>\n",
       "      <td>64.1</td>\n",
       "      <td>14796.0</td>\n",
       "      <td>23.1</td>\n",
       "      <td>659.0</td>\n",
       "      <td>326.0</td>\n",
       "    </tr>\n",
       "    <tr>\n",
       "      <th>3</th>\n",
       "      <td>Appanoose</td>\n",
       "      <td>IA</td>\n",
       "      <td>Midwest</td>\n",
       "      <td>19007</td>\n",
       "      <td>2008-01-03</td>\n",
       "      <td>Caucuses</td>\n",
       "      <td>60.0</td>\n",
       "      <td>17.0</td>\n",
       "      <td>10.0</td>\n",
       "      <td>94.0</td>\n",
       "      <td>...</td>\n",
       "      <td>24989.0</td>\n",
       "      <td>2050.0</td>\n",
       "      <td>453.0</td>\n",
       "      <td>3315.0</td>\n",
       "      <td>74.0</td>\n",
       "      <td>60.2</td>\n",
       "      <td>13422.0</td>\n",
       "      <td>27.0</td>\n",
       "      <td>516.0</td>\n",
       "      <td>236.0</td>\n",
       "    </tr>\n",
       "    <tr>\n",
       "      <th>4</th>\n",
       "      <td>Audubon</td>\n",
       "      <td>IA</td>\n",
       "      <td>Midwest</td>\n",
       "      <td>19009</td>\n",
       "      <td>2008-01-03</td>\n",
       "      <td>Caucuses</td>\n",
       "      <td>48.0</td>\n",
       "      <td>16.0</td>\n",
       "      <td>17.0</td>\n",
       "      <td>94.7</td>\n",
       "      <td>...</td>\n",
       "      <td>26947.0</td>\n",
       "      <td>1150.0</td>\n",
       "      <td>79.0</td>\n",
       "      <td>1223.0</td>\n",
       "      <td>79.2</td>\n",
       "      <td>70.4</td>\n",
       "      <td>6278.0</td>\n",
       "      <td>14.2</td>\n",
       "      <td>444.0</td>\n",
       "      <td>261.0</td>\n",
       "    </tr>\n",
       "  </tbody>\n",
       "</table>\n",
       "<p>5 rows × 41 columns</p>\n",
       "</div>"
      ],
      "text/plain": [
       "      County State   Region   FIPS ElectionDate ElectionType  TotalVote  \\\n",
       "0      Adair    IA  Midwest  19001   2008-01-03     Caucuses       75.0   \n",
       "1      Adams    IA  Midwest  19003   2008-01-03     Caucuses       50.0   \n",
       "2  Allamakee    IA  Midwest  19005   2008-01-03     Caucuses       80.0   \n",
       "3  Appanoose    IA  Midwest  19007   2008-01-03     Caucuses       60.0   \n",
       "4    Audubon    IA  Midwest  19009   2008-01-03     Caucuses       48.0   \n",
       "\n",
       "   Clinton  Obama  MalesPer100Females  ...  SocialSecurityRate  \\\n",
       "0     22.0   24.0                96.7  ...             23222.0   \n",
       "1     18.0    7.0                96.8  ...             26032.0   \n",
       "2     25.0   33.0               104.5  ...             22231.0   \n",
       "3     17.0   10.0                94.0  ...             24989.0   \n",
       "4     16.0   17.0                94.7  ...             26947.0   \n",
       "\n",
       "   RetiredWorkers  Disabilities  DisabilitiesRate  Homeowner  \\\n",
       "0          1230.0          90.0            1145.0       75.0   \n",
       "1           720.0          78.0            1829.0       74.7   \n",
       "2          2245.0         186.0            1265.0       76.4   \n",
       "3          2050.0         453.0            3315.0       74.0   \n",
       "4          1150.0          79.0            1223.0       79.2   \n",
       "\n",
       "   SameHouse1995and2000      Pop  PopDensity  LandArea  FarmArea  \n",
       "0                  66.0   7714.0        13.5     570.0     373.0  \n",
       "1                  65.4   4192.0         9.9     425.0     238.0  \n",
       "2                  64.1  14796.0        23.1     659.0     326.0  \n",
       "3                  60.2  13422.0        27.0     516.0     236.0  \n",
       "4                  70.4   6278.0        14.2     444.0     261.0  \n",
       "\n",
       "[5 rows x 41 columns]"
      ]
     },
     "execution_count": 4,
     "metadata": {},
     "output_type": "execute_result"
    }
   ],
   "source": [
    "#creating two datasets\n",
    "dataTrain = data[data.ElectionDate < '2/19/2008']\n",
    "dataTest = data[data.ElectionDate >= '2/19/2008']\n",
    "\n",
    "print(\"Train set size: \", dataTrain.shape)\n",
    "print(\"Test set size: \", dataTest.shape)\n",
    "dataTrain.head()"
   ]
  },
  {
   "cell_type": "code",
   "execution_count": 5,
   "metadata": {},
   "outputs": [
    {
     "name": "stderr",
     "output_type": "stream",
     "text": [
      "C:\\ProgramData\\Anaconda3\\lib\\site-packages\\ipykernel_launcher.py:2: SettingWithCopyWarning: \n",
      "A value is trying to be set on a copy of a slice from a DataFrame.\n",
      "Try using .loc[row_indexer,col_indexer] = value instead\n",
      "\n",
      "See the caveats in the documentation: http://pandas.pydata.org/pandas-docs/stable/indexing.html#indexing-view-versus-copy\n",
      "  \n",
      "C:\\ProgramData\\Anaconda3\\lib\\site-packages\\ipykernel_launcher.py:3: SettingWithCopyWarning: \n",
      "A value is trying to be set on a copy of a slice from a DataFrame.\n",
      "Try using .loc[row_indexer,col_indexer] = value instead\n",
      "\n",
      "See the caveats in the documentation: http://pandas.pydata.org/pandas-docs/stable/indexing.html#indexing-view-versus-copy\n",
      "  This is separate from the ipykernel package so we can avoid doing imports until\n",
      "C:\\ProgramData\\Anaconda3\\lib\\site-packages\\ipykernel_launcher.py:5: SettingWithCopyWarning: \n",
      "A value is trying to be set on a copy of a slice from a DataFrame.\n",
      "Try using .loc[row_indexer,col_indexer] = value instead\n",
      "\n",
      "See the caveats in the documentation: http://pandas.pydata.org/pandas-docs/stable/indexing.html#indexing-view-versus-copy\n",
      "  \"\"\"\n"
     ]
    },
    {
     "data": {
      "text/plain": [
       "Index(['County', 'State', 'Region', 'FIPS', 'ElectionDate', 'ElectionType',\n",
       "       'TotalVote', 'Clinton', 'Obama', 'MalesPer100Females', 'AgeBelow35',\n",
       "       'Age35to65', 'Age65andAbove', 'White', 'Black', 'Asian',\n",
       "       'AmericanIndian', 'Hawaiian', ' Hispanic', 'HighSchool', 'Bachelors',\n",
       "       'Poverty', 'IncomeAbove75K    ', 'MedianIncome', 'AverageIncome',\n",
       "       'UnemployRate', 'ManfEmploy', 'SpeakingNonEnglish', 'Medicare',\n",
       "       'MedicareRate', 'SocialSecurity', 'SocialSecurityRate',\n",
       "       'RetiredWorkers', 'Disabilities', 'DisabilitiesRate', 'Homeowner',\n",
       "       'SameHouse1995and2000', 'Pop', 'PopDensity', 'LandArea', 'FarmArea',\n",
       "       'ObamaMargin', 'ObamaMarginPercent', 'ObamaWins'],\n",
       "      dtype='object')"
      ]
     },
     "execution_count": 5,
     "metadata": {},
     "output_type": "execute_result"
    }
   ],
   "source": [
    "#create new column with percent votes for Obama (and some other variable that might be of interest)\n",
    "dataTrain['ObamaMargin'] = dataTrain.Obama - dataTrain.Clinton\n",
    "dataTrain['ObamaMarginPercent'] = dataTrain.ObamaMargin / dataTrain.TotalVote # multiply by 100 to get percent\n",
    "#dataTrain['ObamaWins'] = dataTrain.ObamaMargin.apply(lambda x: 1 if x > 0 else 0)\n",
    "dataTrain['ObamaWins'] = np.where(dataTrain.ObamaMargin > 0, 1, 0)\n",
    "\n",
    "#verify that new columns have been created\n",
    "dataTrain.columns"
   ]
  },
  {
   "cell_type": "code",
   "execution_count": 6,
   "metadata": {},
   "outputs": [
    {
     "name": "stdout",
     "output_type": "stream",
     "text": [
      "           FIPS    TotalVote    Clinton      Obama  MalesPer100Females  \\\n",
      "count  1,737.00     1,737.00   1,737.00   1,737.00            1,737.00   \n",
      "mean  25,907.72    12,863.80   5,973.74   6,178.12               99.25   \n",
      "std   15,270.20    53,071.88  25,402.03  27,477.23                9.79   \n",
      "min    1,001.00        13.00       4.00       4.00               76.20   \n",
      "25%   13,157.00       732.00     329.00     254.00               94.90   \n",
      "50%   25,007.00     2,330.00   1,106.00     878.00               97.60   \n",
      "75%   36,095.00     6,418.00   3,200.00   2,749.00              100.70   \n",
      "max   53,077.00 1,413,869.00 771,700.00 743,686.00              200.90   \n",
      "\n",
      "       AgeBelow35  Age35to65  Age65andAbove    White    Black  ...  \\\n",
      "count    1,737.00   1,737.00       1,737.00 1,737.00 1,737.00  ...   \n",
      "mean        45.76      39.49          14.76    85.49    11.07  ...   \n",
      "std          5.52       3.41           4.03    15.92    15.53  ...   \n",
      "min         29.10      18.60           2.20    15.70     0.10  ...   \n",
      "25%         42.10      38.00          12.00    78.40     0.70  ...   \n",
      "50%         45.40      39.60          14.40    92.10     3.40  ...   \n",
      "75%         48.90      41.30          17.20    97.20    14.70  ...   \n",
      "max         75.80      56.50          33.70    99.80    82.80  ...   \n",
      "\n",
      "       DisabilitiesRate  Homeowner  SameHouse1995and2000          Pop  \\\n",
      "count          1,737.00   1,737.00              1,737.00     1,737.00   \n",
      "mean           2,553.70      73.62                 58.02   114,360.37   \n",
      "std            1,631.94       7.99                  7.50   376,421.80   \n",
      "min              125.00      19.60                 15.40       372.00   \n",
      "25%            1,333.00      69.90                 53.40    12,721.00   \n",
      "50%            2,159.00      75.10                 58.74    26,685.00   \n",
      "75%            3,400.00      78.90                 63.40    71,875.00   \n",
      "max           13,349.00      89.60                 78.80 9,948,081.00   \n",
      "\n",
      "       PopDensity  LandArea  FarmArea  ObamaMargin  ObamaMarginPercent  \\\n",
      "count    1,737.00  1,737.00  1,737.00     1,737.00            1,737.00   \n",
      "mean       343.68  1,042.81    267.55       204.38               -0.04   \n",
      "std      2,266.25  1,534.36    331.90    13,201.30                0.30   \n",
      "min          0.20      2.00      1.00  -178,697.00               -0.81   \n",
      "25%         20.20    444.00     81.00      -743.00               -0.24   \n",
      "50%         45.00    621.00    196.00        -4.00               -0.02   \n",
      "75%        123.50    939.00    320.00       331.00                0.18   \n",
      "max     70,190.80 20,105.00  4,595.00   429,052.00                0.73   \n",
      "\n",
      "       ObamaWins  \n",
      "count   1,737.00  \n",
      "mean        0.47  \n",
      "std         0.50  \n",
      "min         0.00  \n",
      "25%         0.00  \n",
      "50%         0.00  \n",
      "75%         1.00  \n",
      "max         1.00  \n",
      "\n",
      "[8 rows x 39 columns]\n"
     ]
    }
   ],
   "source": [
    "# Descriptive stats with applying some formatting for easy reading\n",
    "with pd.option_context('float_format', '{:,.2f}'.format): \n",
    "    print(dataTrain.describe())"
   ]
  },
  {
   "cell_type": "code",
   "execution_count": 7,
   "metadata": {},
   "outputs": [],
   "source": [
    "# Lets create a copy of the data\n",
    "dropFromData = [\"County\",\"FIPS\",\"ObamaMargin\",\"ObamaWins\",\"Obama\",\"Clinton\",\"TotalVote\"]\n",
    "election_data = dataTrain.drop(dropFromData, axis = 1)"
   ]
  },
  {
   "cell_type": "code",
   "execution_count": 8,
   "metadata": {},
   "outputs": [
    {
     "data": {
      "text/plain": [
       "Index(['County', 'State', 'Region', 'FIPS', 'ElectionDate', 'ElectionType',\n",
       "       'TotalVote', 'Clinton', 'Obama', 'MalesPer100Females', 'AgeBelow35',\n",
       "       'Age35to65', 'Age65andAbove', 'White', 'Black', 'Asian',\n",
       "       'AmericanIndian', 'Hawaiian', ' Hispanic', 'HighSchool', 'Bachelors',\n",
       "       'Poverty', 'IncomeAbove75K    ', 'MedianIncome', 'AverageIncome',\n",
       "       'UnemployRate', 'ManfEmploy', 'SpeakingNonEnglish', 'Medicare',\n",
       "       'MedicareRate', 'SocialSecurity', 'SocialSecurityRate',\n",
       "       'RetiredWorkers', 'Disabilities', 'DisabilitiesRate', 'Homeowner',\n",
       "       'SameHouse1995and2000', 'Pop', 'PopDensity', 'LandArea', 'FarmArea',\n",
       "       'ObamaMargin', 'ObamaMarginPercent', 'ObamaWins'],\n",
       "      dtype='object')"
      ]
     },
     "execution_count": 8,
     "metadata": {},
     "output_type": "execute_result"
    }
   ],
   "source": [
    "dataTrain.columns"
   ]
  },
  {
   "cell_type": "markdown",
   "metadata": {},
   "source": [
    "# Dataset preparation"
   ]
  },
  {
   "cell_type": "code",
   "execution_count": 150,
   "metadata": {},
   "outputs": [],
   "source": [
    "X=dataTrain[['MalesPer100Females', 'AgeBelow35',\n",
    "       'Age35to65', 'Age65andAbove', 'White', 'Black', 'Asian',\n",
    "       'AmericanIndian', 'Hawaiian', ' Hispanic', 'HighSchool', 'Bachelors',\n",
    "       'Poverty', 'IncomeAbove75K    ', 'MedianIncome', 'AverageIncome',\n",
    "       'UnemployRate', 'ManfEmploy', 'SpeakingNonEnglish', 'Medicare',\n",
    "       'MedicareRate', 'SocialSecurity', 'SocialSecurityRate',\n",
    "       'RetiredWorkers', 'Disabilities', 'DisabilitiesRate', 'Homeowner',\n",
    "       'SameHouse1995and2000', 'PopDensity', 'LandArea', 'FarmArea']]\n",
    "y=dataTrain['ObamaMarginPercent']"
   ]
  },
  {
   "cell_type": "markdown",
   "metadata": {},
   "source": [
    "# Predicting by LinearRegression model"
   ]
  },
  {
   "cell_type": "code",
   "execution_count": 151,
   "metadata": {},
   "outputs": [],
   "source": [
    "from sklearn.model_selection import train_test_split #split data\n",
    "X_train,X_test,y_train,y_test=train_test_split(X,y,random_state=42,test_size=0.3)"
   ]
  },
  {
   "cell_type": "code",
   "execution_count": 152,
   "metadata": {},
   "outputs": [],
   "source": [
    "from sklearn.linear_model import LinearRegression\n",
    "from sklearn.metrics import r2_score,accuracy_score"
   ]
  },
  {
   "cell_type": "code",
   "execution_count": 153,
   "metadata": {},
   "outputs": [],
   "source": [
    "reg=LinearRegression()"
   ]
  },
  {
   "cell_type": "code",
   "execution_count": 154,
   "metadata": {},
   "outputs": [
    {
     "data": {
      "text/plain": [
       "LinearRegression(copy_X=True, fit_intercept=True, n_jobs=None,\n",
       "         normalize=False)"
      ]
     },
     "execution_count": 154,
     "metadata": {},
     "output_type": "execute_result"
    }
   ],
   "source": [
    "reg.fit(X_train,y_train)"
   ]
  },
  {
   "cell_type": "code",
   "execution_count": 155,
   "metadata": {},
   "outputs": [],
   "source": [
    "pred=reg.predict(X_test)"
   ]
  },
  {
   "cell_type": "code",
   "execution_count": 156,
   "metadata": {},
   "outputs": [
    {
     "data": {
      "text/plain": [
       "Text(0, 0.5, 'prediction')"
      ]
     },
     "execution_count": 156,
     "metadata": {},
     "output_type": "execute_result"
    },
    {
     "data": {
      "image/png": "[encoded data removed]",
      "text/plain": [
       "<Figure size 432x288 with 1 Axes>"
      ]
     },
     "metadata": {
      "needs_background": "light"
     },
     "output_type": "display_data"
    }
   ],
   "source": [
    "plt.scatter(y_test,pred)\n",
    "plt.xlabel('True values')\n",
    "plt.ylabel('prediction')"
   ]
  },
  {
   "cell_type": "code",
   "execution_count": 157,
   "metadata": {},
   "outputs": [
    {
     "name": "stdout",
     "output_type": "stream",
     "text": [
      "MAE1: 0.15909735684334533\n",
      "MSE1: 0.04086172241604253\n",
      "RMSE1: 0.20214282677365164\n"
     ]
    },
    {
     "data": {
      "text/plain": [
       "0.5582276581597991"
      ]
     },
     "execution_count": 157,
     "metadata": {},
     "output_type": "execute_result"
    }
   ],
   "source": [
    "from sklearn import metrics\n",
    "print('MAE1:', metrics.mean_absolute_error(y_test, pred))#Mean Absolute Error (MAE) is the mean of the absolute value of the errors\n",
    "print('MSE1:', metrics.mean_squared_error(y_test, pred))#Mean Squared Error (MSE) is the mean of the squared errors\n",
    "print('RMSE1:', np.sqrt(metrics.mean_squared_error(y_test, pred)))#Root Mean Squared Error (RMSE) is the square root of the mean of the squared errors\n",
    "\n",
    "reg.score(X_test, y_test)"
   ]
  },
  {
   "cell_type": "code",
   "execution_count": 142,
   "metadata": {},
   "outputs": [],
   "source": [
    "X=dataTrain[['White', 'Black', 'Asian',\n",
    "       'AmericanIndian', 'Hawaiian', ' Hispanic']]\n",
    "y=dataTrain['ObamaMarginPercent']"
   ]
  },
  {
   "cell_type": "code",
   "execution_count": 220,
   "metadata": {},
   "outputs": [
    {
     "name": "stdout",
     "output_type": "stream",
     "text": [
      "MAE2: 0.1566070609613051\n",
      "MSE2: 0.039857844066965444\n",
      "RMSE2: 0.19964429385025118\n"
     ]
    },
    {
     "data": {
      "text/plain": [
       "0.5690809864820616"
      ]
     },
     "execution_count": 220,
     "metadata": {},
     "output_type": "execute_result"
    },
    {
     "data": {
      "image/png": "[encoded data removed]",
      "text/plain": [
       "<Figure size 432x288 with 1 Axes>"
      ]
     },
     "metadata": {
      "needs_background": "light"
     },
     "output_type": "display_data"
    }
   ],
   "source": [
    "X_train,X_test,y_train,y_test=train_test_split(X,y,random_state=42,test_size=0.3)\n",
    "from sklearn.linear_model import LinearRegression\n",
    "reg=LinearRegression()\n",
    "reg.fit(X_train,y_train)\n",
    "pred=reg.predict(X_test)\n",
    "plt.scatter(y_test,pred)\n",
    "plt.xlabel('True values')\n",
    "plt.ylabel('prediction')\n",
    "print('MAE2:', metrics.mean_absolute_error(y_test, pred))\n",
    "print('MSE2:', metrics.mean_squared_error(y_test, pred))\n",
    "print('RMSE2:', np.sqrt(metrics.mean_squared_error(y_test, pred)))\n",
    "r2_score(y_test, pred)"
   ]
  },
  {
   "cell_type": "code",
   "execution_count": 221,
   "metadata": {},
   "outputs": [],
   "source": [
    "X=dataTrain[['HighSchool', 'Bachelors',\n",
    "       'Poverty','IncomeAbove75K    ', 'AverageIncome', 'LandArea', 'FarmArea']]\n",
    "y=dataTrain['ObamaMarginPercent']"
   ]
  },
  {
   "cell_type": "code",
   "execution_count": 222,
   "metadata": {},
   "outputs": [
    {
     "name": "stdout",
     "output_type": "stream",
     "text": [
      "MAE3: 0.22298584204147853\n",
      "MSE3: 0.07534568226406416\n",
      "RMSE3: 0.27449167977201816\n"
     ]
    },
    {
     "data": {
      "text/plain": [
       "0.18540784545403333"
      ]
     },
     "execution_count": 222,
     "metadata": {},
     "output_type": "execute_result"
    },
    {
     "data": {
      "image/png": "[encoded data removed]",
      "text/plain": [
       "<Figure size 432x288 with 1 Axes>"
      ]
     },
     "metadata": {
      "needs_background": "light"
     },
     "output_type": "display_data"
    }
   ],
   "source": [
    "X_train,X_test,y_train,y_test=train_test_split(X,y,random_state=42,test_size=0.3)\n",
    "from sklearn.linear_model import LinearRegression\n",
    "reg=LinearRegression()\n",
    "reg.fit(X_train,y_train)\n",
    "pred=reg.predict(X_test)\n",
    "plt.scatter(y_test,pred)\n",
    "plt.xlabel('True values')\n",
    "plt.ylabel('prediction')\n",
    "print('MAE3:', metrics.mean_absolute_error(y_test, pred))\n",
    "print('MSE3:', metrics.mean_squared_error(y_test, pred))\n",
    "print('RMSE3:', np.sqrt(metrics.mean_squared_error(y_test, pred)))\n",
    "r2_score(y_test, pred)"
   ]
  },
  {
   "cell_type": "code",
   "execution_count": 223,
   "metadata": {},
   "outputs": [],
   "source": [
    "X=dataTrain[['Medicare',\n",
    "       'MedicareRate', 'SocialSecurity', 'SocialSecurityRate', 'Disabilities', 'DisabilitiesRate', 'Homeowner',\n",
    "       'SameHouse1995and2000', 'PopDensity']]\n",
    "y=dataTrain[['ObamaMarginPercent']]"
   ]
  },
  {
   "cell_type": "code",
   "execution_count": 224,
   "metadata": {},
   "outputs": [
    {
     "name": "stdout",
     "output_type": "stream",
     "text": [
      "MAE4: 0.2319570210241273\n",
      "MSE4: 0.08142717719604166\n",
      "RMSE4: 0.28535447639040407\n"
     ]
    },
    {
     "data": {
      "text/plain": [
       "0.11965838363168435"
      ]
     },
     "execution_count": 224,
     "metadata": {},
     "output_type": "execute_result"
    },
    {
     "data": {
      "image/png": "[encoded data removed]",
      "text/plain": [
       "<Figure size 432x288 with 1 Axes>"
      ]
     },
     "metadata": {
      "needs_background": "light"
     },
     "output_type": "display_data"
    }
   ],
   "source": [
    "X_train,X_test,y_train,y_test=train_test_split(X,y,random_state=42,test_size=0.3)\n",
    "from sklearn.linear_model import LinearRegression\n",
    "reg=LinearRegression()\n",
    "reg.fit(X_train,y_train)\n",
    "pred=reg.predict(X_test)\n",
    "plt.scatter(y_test,pred)\n",
    "plt.xlabel('True values')\n",
    "plt.ylabel('prediction')\n",
    "print('MAE4:', metrics.mean_absolute_error(y_test, pred))\n",
    "print('MSE4:', metrics.mean_squared_error(y_test, pred))\n",
    "print('RMSE4:', np.sqrt(metrics.mean_squared_error(y_test, pred)))\n",
    "r2_score(y_test, pred)"
   ]
  },
  {
   "cell_type": "markdown",
   "metadata": {},
   "source": [
    "# "
   ]
  },
  {
   "cell_type": "code",
   "execution_count": 158,
   "metadata": {},
   "outputs": [],
   "source": [
    "from sklearn.model_selection import KFold"
   ]
  },
  {
   "cell_type": "code",
   "execution_count": 161,
   "metadata": {},
   "outputs": [],
   "source": [
    "kf = KFold(n_splits=5)\n",
    "for train_index, test_index in kf.split(X):\n",
    "      print(\"TRAIN:\", train_index, \"TEST:\", test_index)\n",
    "    X_train, X_test = X[train_index], X[test_index]\n",
    "    y_train, y_test = y[train_index], y[test_index]"
   ]
  },
  {
   "cell_type": "markdown",
   "metadata": {},
   "source": [
    "# PCA"
   ]
  },
  {
   "cell_type": "code",
   "execution_count": 214,
   "metadata": {},
   "outputs": [],
   "source": [
    "from sklearn.decomposition import PCA #import PCA\n",
    "pca = PCA(n_components=1)\n",
    "principalComponents = pca.fit_transform(dataTrain[['White','Asian',\n",
    "       'AmericanIndian', 'Hawaiian', ' Hispanic']])\n",
    "principalDf = pd.DataFrame(data = principalComponents\n",
    "             , columns = ['principal component 1'])"
   ]
  },
  {
   "cell_type": "code",
   "execution_count": 216,
   "metadata": {},
   "outputs": [
    {
     "data": {
      "text/plain": [
       "((1737, 5), (1737, 1))"
      ]
     },
     "execution_count": 216,
     "metadata": {},
     "output_type": "execute_result"
    }
   ],
   "source": [
    "dataTrain[['White','Asian',\n",
    "       'AmericanIndian', 'Hawaiian', ' Hispanic']].shape,principalDf.shape"
   ]
  },
  {
   "cell_type": "code",
   "execution_count": null,
   "metadata": {},
   "outputs": [],
   "source": [
    "#create new dataset by concating our new features... created by PCA model"
   ]
  },
  {
   "cell_type": "code",
   "execution_count": 218,
   "metadata": {},
   "outputs": [],
   "source": [
    "finalDf = pd.concat([principalDf,dataTrain[['MalesPer100Females', 'AgeBelow35', \n",
    "       'Age35to65', 'Age65andAbove', 'Black', 'HighSchool', 'Bachelors',\n",
    "       'Poverty', 'IncomeAbove75K    ', 'MedianIncome', 'AverageIncome',\n",
    "       'UnemployRate', 'ManfEmploy', 'SpeakingNonEnglish', 'Medicare',\n",
    "       'MedicareRate', 'SocialSecurity', 'SocialSecurityRate',\n",
    "       'RetiredWorkers', 'Disabilities', 'DisabilitiesRate', 'Homeowner',\n",
    "       'SameHouse1995and2000', 'PopDensity', 'LandArea', 'FarmArea','ObamaMarginPercent']]], axis = 1)"
   ]
  },
  {
   "cell_type": "markdown",
   "metadata": {},
   "source": [
    "# Testing new features by predicting"
   ]
  },
  {
   "cell_type": "code",
   "execution_count": 219,
   "metadata": {
    "scrolled": true
   },
   "outputs": [
    {
     "name": "stdout",
     "output_type": "stream",
     "text": [
      "MAE4: 0.1566070609613051\n",
      "MSE4: 0.039857844066965444\n",
      "RMSE4: 0.19964429385025118\n"
     ]
    },
    {
     "data": {
      "text/plain": [
       "0.5690809864820616"
      ]
     },
     "execution_count": 219,
     "metadata": {},
     "output_type": "execute_result"
    },
    {
     "data": {
      "image/png": "[encoded data removed]",
      "text/plain": [
       "<Figure size 432x288 with 1 Axes>"
      ]
     },
     "metadata": {
      "needs_background": "light"
     },
     "output_type": "display_data"
    }
   ],
   "source": [
    "X=finalDf.drop('ObamaMarginPercent',axis=1)\n",
    "y=dataTrain['ObamaMarginPercent']\n",
    "X_train,X_test,y_train,y_test=train_test_split(X,y,random_state=42,test_size=0.3)\n",
    "from sklearn.linear_model import LinearRegression\n",
    "reg=LinearRegression()\n",
    "reg.fit(X_train,y_train)\n",
    "pred=reg.predict(X_test)\n",
    "plt.scatter(y_test,pred)\n",
    "print('MAE4:', metrics.mean_absolute_error(y_test, pred))\n",
    "print('MSE4:', metrics.mean_squared_error(y_test, pred))\n",
    "print('RMSE4:', np.sqrt(metrics.mean_squared_error(y_test, pred)))\n",
    "r2_score(y_test, pred)"
   ]
  },
  {
   "cell_type": "markdown",
   "metadata": {},
   "source": [
    "# Visualization"
   ]
  },
  {
   "cell_type": "code",
   "execution_count": 211,
   "metadata": {},
   "outputs": [
    {
     "data": {
      "image/png": "[encoded data removed]",
      "text/plain": [
       "<Figure size 432x288 with 4 Axes>"
      ]
     },
     "metadata": {},
     "output_type": "display_data"
    }
   ],
   "source": [
    "fig = plt.figure()\n",
    "arr = ['White', 'Black', 'Asian', 'AmericanIndian', 'Hawaiian', ' Hispanic']\n",
    "j = 0\n",
    "for i in range(len(arr)):\n",
    "    BlackVoteData = data[data[arr[i]]>50]\n",
    "    BlackVoteData1 = BlackVoteData[BlackVoteData['Obama']>BlackVoteData['Clinton']]\n",
    "    BlackVoteData2 = BlackVoteData[BlackVoteData['Obama']<BlackVoteData['Clinton']]\n",
    "    BlackVoteData1.count()\n",
    "    BlackVoteData2.count()\n",
    "    count = [BlackVoteData1.Obama.count(),BlackVoteData2.Obama.count()]\n",
    "    if count != [0, 0]:\n",
    "        ax = fig.add_subplot(2,2,j+1)\n",
    "        ax.set_title(arr[i])\n",
    "        ax.pie(count,labels=[str('Obama '+str(count[0])),str('Clinton '+str(count[1]))])\n",
    "        j+=1\n",
    "plt.show()\n",
    "\n"
   ]
  },
  {
   "cell_type": "code",
   "execution_count": 209,
   "metadata": {},
   "outputs": [
    {
     "data": {
      "image/png": "[encoded data removed]",
      "text/plain": [
       "<Figure size 432x288 with 2 Axes>"
      ]
     },
     "metadata": {},
     "output_type": "display_data"
    }
   ],
   "source": [
    "fig = plt.figure()\n",
    "arr = ['AgeBelow35','Age35to65', 'Age65andAbove']\n",
    "j = 0\n",
    "for i in range(len(arr)):\n",
    "    ageData = data[data[arr[i]]>40]\n",
    "    BlackVoteData1 = ageData[ageData['Obama']>ageData['Clinton']]\n",
    "    BlackVoteData2 = ageData[ageData['Obama']<ageData['Clinton']]\n",
    "    BlackVoteData1.count()\n",
    "    BlackVoteData2.count()\n",
    "    count = [BlackVoteData1.Obama.count(),BlackVoteData2.Obama.count()]\n",
    "    if count != [0, 0]:\n",
    "        ax = fig.add_subplot(2,2,j+1)\n",
    "        ax.set_title(arr[i])\n",
    "        ax.pie(count,labels=[str('Obama '+str(count[0])),str('Clinton '+str(count[1]))])\n",
    "        j+=1\n",
    "plt.show()"
   ]
  },
  {
   "cell_type": "code",
   "execution_count": 210,
   "metadata": {},
   "outputs": [
    {
     "data": {
      "image/png": "[encoded data removed]",
      "text/plain": [
       "<Figure size 432x288 with 2 Axes>"
      ]
     },
     "metadata": {},
     "output_type": "display_data"
    }
   ],
   "source": [
    "moreincome = data[data['AverageIncome']> data.AverageIncome.mean()]\n",
    "lessincome = data[data['AverageIncome']< data.AverageIncome.mean()]\n",
    "voteData1 = moreincome[moreincome['Obama']>moreincome['Clinton']]\n",
    "voteData2 = moreincome[moreincome['Obama']<moreincome['Clinton']]\n",
    "voteData3 = lessincome[lessincome['Obama']>lessincome['Clinton']]\n",
    "voteData4 = lessincome[lessincome['Obama']<lessincome['Clinton']]\n",
    "count1 = [voteData1.Obama.count(),voteData2.Obama.count()]\n",
    "count2 = [voteData3.Obama.count(),voteData4.Obama.count()]\n",
    "\n",
    "fig, (ax, ax2) = plt.subplots(2)\n",
    "ax.pie(count1,labels=['Obama wins '+str(count1[0]),'Clinton wins '+str(count1[1])])\n",
    "ax2.pie(count2,labels=['Obama wins '+str(count2[0]),'Clinton wins '+str(count2[1])])\n",
    "plt.show()\n"
   ]
  },
  {
   "cell_type": "code",
   "execution_count": 225,
   "metadata": {},
   "outputs": [
    {
     "data": {
      "text/plain": [
       "Text(0.5, 1.0, \"How Obama's margin changed by Regions\")"
      ]
     },
     "execution_count": 225,
     "metadata": {},
     "output_type": "execute_result"
    },
    {
     "data": {
      "image/png": "[encoded data removed]",
      "text/plain": [
       "<Figure size 720x360 with 1 Axes>"
      ]
     },
     "metadata": {
      "needs_background": "light"
     },
     "output_type": "display_data"
    }
   ],
   "source": [
    "#Obama's margin changed by Regions\n",
    "from statsmodels.nonparametric.smoothers_lowess import lowess\n",
    "\n",
    "plt.figure(figsize=(10,5))\n",
    "plt.plot(dataTrain.Region, dataTrain.ObamaMarginPercent, 'o', fillstyle='none', color='blue');\n",
    "plt.xticks(rotation='45')\n",
    "plt.ylabel('Obama margin (% of total)')\n",
    "plt.title(\"How Obama's margin changed by Regions\")"
   ]
  },
  {
   "cell_type": "code",
   "execution_count": null,
   "metadata": {},
   "outputs": [],
   "source": []
  }
 ],
 "metadata": {
  "kernelspec": {
   "display_name": "Python 3",
   "language": "python",
   "name": "python3"
  },
  "language_info": {
   "codemirror_mode": {
    "name": "ipython",
    "version": 3
   },
   "file_extension": ".py",
   "mimetype": "text/x-python",
   "name": "python",
   "nbconvert_exporter": "python",
   "pygments_lexer": "ipython3",
   "version": "3.8.3"
  }
 },
 "nbformat": 4,
 "nbformat_minor": 4
}
